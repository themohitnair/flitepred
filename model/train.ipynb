{
 "cells": [
  {
   "cell_type": "code",
   "execution_count": null,
   "id": "a368e7ae",
   "metadata": {},
   "outputs": [],
   "source": [
    "import pandas as pd\n",
    "import numpy as np\n",
    "from sklearn.ensemble import RandomForestRegressor, GradientBoostingRegressor, AdaBoostRegressor\n",
    "from sklearn.linear_model import LinearRegression\n",
    "from sklearn.svm import SVR\n",
    "from sklearn.metrics import mean_squared_error, mean_absolute_error, r2_score\n",
    "from sklearn.preprocessing import StandardScaler\n",
    "import lightgbm as lgb\n",
    "import xgboost as xgb\n",
    "import catboost as cb"
   ]
  },
  {
   "cell_type": "code",
   "execution_count": 11,
   "id": "aa1397c3",
   "metadata": {},
   "outputs": [
    {
     "data": {
      "text/html": [
       "<div>\n",
       "<style scoped>\n",
       "    .dataframe tbody tr th:only-of-type {\n",
       "        vertical-align: middle;\n",
       "    }\n",
       "\n",
       "    .dataframe tbody tr th {\n",
       "        vertical-align: top;\n",
       "    }\n",
       "\n",
       "    .dataframe thead th {\n",
       "        text-align: right;\n",
       "    }\n",
       "</style>\n",
       "<table border=\"1\" class=\"dataframe\">\n",
       "  <thead>\n",
       "    <tr style=\"text-align: right;\">\n",
       "      <th></th>\n",
       "      <th>day_of_month</th>\n",
       "      <th>departure_delay</th>\n",
       "      <th>air_time</th>\n",
       "      <th>distance</th>\n",
       "      <th>temperature_celsius</th>\n",
       "      <th>precipitation_mm</th>\n",
       "      <th>cloud_cover_percentage</th>\n",
       "      <th>wind_speed_mps</th>\n",
       "      <th>airline_carrier_target_enc</th>\n",
       "      <th>destination_airport_id_target_enc</th>\n",
       "      <th>...</th>\n",
       "      <th>weather_heavy_snow</th>\n",
       "      <th>weather_light_drizzle</th>\n",
       "      <th>weather_mainly_clear</th>\n",
       "      <th>weather_moderate_drizzle</th>\n",
       "      <th>weather_moderate_rain</th>\n",
       "      <th>weather_moderate_snow</th>\n",
       "      <th>weather_overcast</th>\n",
       "      <th>weather_partly_cloudy</th>\n",
       "      <th>weather_slight_rain</th>\n",
       "      <th>weather_slight_snow</th>\n",
       "    </tr>\n",
       "  </thead>\n",
       "  <tbody>\n",
       "    <tr>\n",
       "      <th>0</th>\n",
       "      <td>1</td>\n",
       "      <td>-3.0</td>\n",
       "      <td>0.913204</td>\n",
       "      <td>0.838999</td>\n",
       "      <td>-1.787289</td>\n",
       "      <td>-0.1953</td>\n",
       "      <td>0.237618</td>\n",
       "      <td>-0.360681</td>\n",
       "      <td>8.391779</td>\n",
       "      <td>9.218631</td>\n",
       "      <td>...</td>\n",
       "      <td>False</td>\n",
       "      <td>False</td>\n",
       "      <td>False</td>\n",
       "      <td>False</td>\n",
       "      <td>False</td>\n",
       "      <td>False</td>\n",
       "      <td>False</td>\n",
       "      <td>True</td>\n",
       "      <td>False</td>\n",
       "      <td>False</td>\n",
       "    </tr>\n",
       "    <tr>\n",
       "      <th>1</th>\n",
       "      <td>1</td>\n",
       "      <td>56.0</td>\n",
       "      <td>0.859902</td>\n",
       "      <td>0.838999</td>\n",
       "      <td>-1.776315</td>\n",
       "      <td>-0.1953</td>\n",
       "      <td>-0.432984</td>\n",
       "      <td>-0.304389</td>\n",
       "      <td>8.550816</td>\n",
       "      <td>9.039462</td>\n",
       "      <td>...</td>\n",
       "      <td>False</td>\n",
       "      <td>False</td>\n",
       "      <td>True</td>\n",
       "      <td>False</td>\n",
       "      <td>False</td>\n",
       "      <td>False</td>\n",
       "      <td>False</td>\n",
       "      <td>False</td>\n",
       "      <td>False</td>\n",
       "      <td>False</td>\n",
       "    </tr>\n",
       "    <tr>\n",
       "      <th>2</th>\n",
       "      <td>1</td>\n",
       "      <td>-4.0</td>\n",
       "      <td>0.877669</td>\n",
       "      <td>0.838999</td>\n",
       "      <td>-1.776315</td>\n",
       "      <td>-0.1953</td>\n",
       "      <td>-0.432984</td>\n",
       "      <td>-0.304389</td>\n",
       "      <td>8.550816</td>\n",
       "      <td>9.039462</td>\n",
       "      <td>...</td>\n",
       "      <td>False</td>\n",
       "      <td>False</td>\n",
       "      <td>True</td>\n",
       "      <td>False</td>\n",
       "      <td>False</td>\n",
       "      <td>False</td>\n",
       "      <td>False</td>\n",
       "      <td>False</td>\n",
       "      <td>False</td>\n",
       "      <td>False</td>\n",
       "    </tr>\n",
       "    <tr>\n",
       "      <th>3</th>\n",
       "      <td>1</td>\n",
       "      <td>-8.0</td>\n",
       "      <td>0.895436</td>\n",
       "      <td>0.838999</td>\n",
       "      <td>-1.611712</td>\n",
       "      <td>-0.1953</td>\n",
       "      <td>1.023840</td>\n",
       "      <td>-0.332535</td>\n",
       "      <td>8.414581</td>\n",
       "      <td>8.634657</td>\n",
       "      <td>...</td>\n",
       "      <td>False</td>\n",
       "      <td>False</td>\n",
       "      <td>False</td>\n",
       "      <td>False</td>\n",
       "      <td>False</td>\n",
       "      <td>False</td>\n",
       "      <td>True</td>\n",
       "      <td>False</td>\n",
       "      <td>False</td>\n",
       "      <td>False</td>\n",
       "    </tr>\n",
       "    <tr>\n",
       "      <th>4</th>\n",
       "      <td>1</td>\n",
       "      <td>4.0</td>\n",
       "      <td>0.877669</td>\n",
       "      <td>0.838999</td>\n",
       "      <td>-1.161796</td>\n",
       "      <td>-0.1953</td>\n",
       "      <td>0.353239</td>\n",
       "      <td>0.624422</td>\n",
       "      <td>8.643352</td>\n",
       "      <td>9.059800</td>\n",
       "      <td>...</td>\n",
       "      <td>False</td>\n",
       "      <td>False</td>\n",
       "      <td>False</td>\n",
       "      <td>False</td>\n",
       "      <td>False</td>\n",
       "      <td>False</td>\n",
       "      <td>False</td>\n",
       "      <td>True</td>\n",
       "      <td>False</td>\n",
       "      <td>False</td>\n",
       "    </tr>\n",
       "  </tbody>\n",
       "</table>\n",
       "<p>5 rows × 31 columns</p>\n",
       "</div>"
      ],
      "text/plain": [
       "   day_of_month  departure_delay  air_time  distance  temperature_celsius  \\\n",
       "0             1             -3.0  0.913204  0.838999            -1.787289   \n",
       "1             1             56.0  0.859902  0.838999            -1.776315   \n",
       "2             1             -4.0  0.877669  0.838999            -1.776315   \n",
       "3             1             -8.0  0.895436  0.838999            -1.611712   \n",
       "4             1              4.0  0.877669  0.838999            -1.161796   \n",
       "\n",
       "   precipitation_mm  cloud_cover_percentage  wind_speed_mps  \\\n",
       "0           -0.1953                0.237618       -0.360681   \n",
       "1           -0.1953               -0.432984       -0.304389   \n",
       "2           -0.1953               -0.432984       -0.304389   \n",
       "3           -0.1953                1.023840       -0.332535   \n",
       "4           -0.1953                0.353239        0.624422   \n",
       "\n",
       "   airline_carrier_target_enc  destination_airport_id_target_enc  ...  \\\n",
       "0                    8.391779                           9.218631  ...   \n",
       "1                    8.550816                           9.039462  ...   \n",
       "2                    8.550816                           9.039462  ...   \n",
       "3                    8.414581                           8.634657  ...   \n",
       "4                    8.643352                           9.059800  ...   \n",
       "\n",
       "   weather_heavy_snow  weather_light_drizzle  weather_mainly_clear  \\\n",
       "0               False                  False                 False   \n",
       "1               False                  False                  True   \n",
       "2               False                  False                  True   \n",
       "3               False                  False                 False   \n",
       "4               False                  False                 False   \n",
       "\n",
       "   weather_moderate_drizzle  weather_moderate_rain  weather_moderate_snow  \\\n",
       "0                     False                  False                  False   \n",
       "1                     False                  False                  False   \n",
       "2                     False                  False                  False   \n",
       "3                     False                  False                  False   \n",
       "4                     False                  False                  False   \n",
       "\n",
       "   weather_overcast  weather_partly_cloudy  weather_slight_rain  \\\n",
       "0             False                   True                False   \n",
       "1             False                  False                False   \n",
       "2             False                  False                False   \n",
       "3              True                  False                False   \n",
       "4             False                   True                False   \n",
       "\n",
       "   weather_slight_snow  \n",
       "0                False  \n",
       "1                False  \n",
       "2                False  \n",
       "3                False  \n",
       "4                False  \n",
       "\n",
       "[5 rows x 31 columns]"
      ]
     },
     "execution_count": 11,
     "metadata": {},
     "output_type": "execute_result"
    }
   ],
   "source": [
    "df = pd.read_csv('dataset/processed/jfk_encoded_2024.csv')\n",
    "\n",
    "df.head()"
   ]
  },
  {
   "cell_type": "code",
   "execution_count": 12,
   "id": "7006679f",
   "metadata": {},
   "outputs": [],
   "source": [
    "X = df.drop(columns=['departure_delay'])\n",
    "y = df['departure_delay']"
   ]
  },
  {
   "cell_type": "code",
   "execution_count": 13,
   "id": "e8b1a389",
   "metadata": {},
   "outputs": [],
   "source": [
    "scaler = StandardScaler()\n",
    "X_scaled = scaler.fit_transform(X)"
   ]
  },
  {
   "cell_type": "code",
   "execution_count": 14,
   "id": "aa30b56b",
   "metadata": {},
   "outputs": [],
   "source": [
    "models = {\n",
    "    'Linear Regression': LinearRegression(),\n",
    "    'Random Forest': RandomForestRegressor(),\n",
    "    'Gradient Boosting': GradientBoostingRegressor(),\n",
    "    'AdaBoost': AdaBoostRegressor(),\n",
    "    'Support Vector Regression': SVR(),\n",
    "    'LightGBM': lgb.LGBMRegressor(),\n",
    "    'XGBoost': xgb.XGBRegressor(),\n",
    "    'CatBoost': cb.CatBoostRegressor(verbose=0)\n",
    "}"
   ]
  },
  {
   "cell_type": "code",
   "execution_count": 15,
   "id": "bfaa5ced",
   "metadata": {},
   "outputs": [],
   "source": [
    "results = {}"
   ]
  },
  {
   "cell_type": "code",
   "execution_count": null,
   "id": "8eefcdf9",
   "metadata": {},
   "outputs": [
    {
     "name": "stdout",
     "output_type": "stream",
     "text": [
      "Training Linear Regression...\n",
      "Training Random Forest...\n"
     ]
    },
    {
     "name": "stderr",
     "output_type": "stream",
     "text": [
      "/home/themohitnair/Skywalker/flitepred/.venv/lib/python3.12/site-packages/pandas/core/arraylike.py:399: RuntimeWarning: divide by zero encountered in log1p\n",
      "  result = getattr(ufunc, method)(*inputs, **kwargs)\n",
      "/home/themohitnair/Skywalker/flitepred/.venv/lib/python3.12/site-packages/pandas/core/arraylike.py:399: RuntimeWarning: invalid value encountered in log1p\n",
      "  result = getattr(ufunc, method)(*inputs, **kwargs)\n",
      "/tmp/ipykernel_140908/3344891223.py:10: RuntimeWarning: invalid value encountered in log1p\n",
      "  rmsle = np.sqrt(np.mean(np.log1p(y) - np.log1p(y_pred))**2)\n",
      "/home/themohitnair/Skywalker/flitepred/.venv/lib/python3.12/site-packages/pandas/core/arraylike.py:399: RuntimeWarning: divide by zero encountered in log1p\n",
      "  result = getattr(ufunc, method)(*inputs, **kwargs)\n",
      "/home/themohitnair/Skywalker/flitepred/.venv/lib/python3.12/site-packages/pandas/core/arraylike.py:399: RuntimeWarning: invalid value encountered in log1p\n",
      "  result = getattr(ufunc, method)(*inputs, **kwargs)\n",
      "/tmp/ipykernel_140908/3344891223.py:10: RuntimeWarning: divide by zero encountered in log1p\n",
      "  rmsle = np.sqrt(np.mean(np.log1p(y) - np.log1p(y_pred))**2)\n",
      "/tmp/ipykernel_140908/3344891223.py:10: RuntimeWarning: invalid value encountered in log1p\n",
      "  rmsle = np.sqrt(np.mean(np.log1p(y) - np.log1p(y_pred))**2)\n",
      "/home/themohitnair/Skywalker/flitepred/.venv/lib/python3.12/site-packages/numpy/core/_methods.py:49: RuntimeWarning: invalid value encountered in reduce\n",
      "  return umr_sum(a, axis, dtype, out, keepdims, initial, where)\n"
     ]
    },
    {
     "name": "stdout",
     "output_type": "stream",
     "text": [
      "Training Gradient Boosting...\n"
     ]
    },
    {
     "name": "stderr",
     "output_type": "stream",
     "text": [
      "/home/themohitnair/Skywalker/flitepred/.venv/lib/python3.12/site-packages/pandas/core/arraylike.py:399: RuntimeWarning: divide by zero encountered in log1p\n",
      "  result = getattr(ufunc, method)(*inputs, **kwargs)\n",
      "/home/themohitnair/Skywalker/flitepred/.venv/lib/python3.12/site-packages/pandas/core/arraylike.py:399: RuntimeWarning: invalid value encountered in log1p\n",
      "  result = getattr(ufunc, method)(*inputs, **kwargs)\n",
      "/tmp/ipykernel_140908/3344891223.py:10: RuntimeWarning: invalid value encountered in log1p\n",
      "  rmsle = np.sqrt(np.mean(np.log1p(y) - np.log1p(y_pred))**2)\n"
     ]
    },
    {
     "name": "stdout",
     "output_type": "stream",
     "text": [
      "Training AdaBoost...\n"
     ]
    },
    {
     "name": "stderr",
     "output_type": "stream",
     "text": [
      "/home/themohitnair/Skywalker/flitepred/.venv/lib/python3.12/site-packages/pandas/core/arraylike.py:399: RuntimeWarning: divide by zero encountered in log1p\n",
      "  result = getattr(ufunc, method)(*inputs, **kwargs)\n",
      "/home/themohitnair/Skywalker/flitepred/.venv/lib/python3.12/site-packages/pandas/core/arraylike.py:399: RuntimeWarning: invalid value encountered in log1p\n",
      "  result = getattr(ufunc, method)(*inputs, **kwargs)\n"
     ]
    },
    {
     "name": "stdout",
     "output_type": "stream",
     "text": [
      "Training Support Vector Regression...\n"
     ]
    },
    {
     "name": "stderr",
     "output_type": "stream",
     "text": [
      "/home/themohitnair/Skywalker/flitepred/.venv/lib/python3.12/site-packages/pandas/core/arraylike.py:399: RuntimeWarning: divide by zero encountered in log1p\n",
      "  result = getattr(ufunc, method)(*inputs, **kwargs)\n",
      "/home/themohitnair/Skywalker/flitepred/.venv/lib/python3.12/site-packages/pandas/core/arraylike.py:399: RuntimeWarning: invalid value encountered in log1p\n",
      "  result = getattr(ufunc, method)(*inputs, **kwargs)\n",
      "/tmp/ipykernel_140908/3344891223.py:10: RuntimeWarning: invalid value encountered in log1p\n",
      "  rmsle = np.sqrt(np.mean(np.log1p(y) - np.log1p(y_pred))**2)\n"
     ]
    },
    {
     "name": "stdout",
     "output_type": "stream",
     "text": [
      "Training LightGBM...\n",
      "[LightGBM] [Info] Auto-choosing row-wise multi-threading, the overhead of testing was 0.002455 seconds.\n",
      "You can set `force_row_wise=true` to remove the overhead.\n",
      "And if memory is not enough, you can set `force_col_wise=true`.\n",
      "[LightGBM] [Info] Total Bins 1198\n",
      "[LightGBM] [Info] Number of data points in the train set: 27840, number of used features: 30\n",
      "[LightGBM] [Info] Start training from score 14.420654\n"
     ]
    },
    {
     "name": "stderr",
     "output_type": "stream",
     "text": [
      "/home/themohitnair/Skywalker/flitepred/.venv/lib/python3.12/site-packages/sklearn/utils/validation.py:2739: UserWarning: X does not have valid feature names, but LGBMRegressor was fitted with feature names\n",
      "  warnings.warn(\n",
      "/home/themohitnair/Skywalker/flitepred/.venv/lib/python3.12/site-packages/pandas/core/arraylike.py:399: RuntimeWarning: divide by zero encountered in log1p\n",
      "  result = getattr(ufunc, method)(*inputs, **kwargs)\n",
      "/home/themohitnair/Skywalker/flitepred/.venv/lib/python3.12/site-packages/pandas/core/arraylike.py:399: RuntimeWarning: invalid value encountered in log1p\n",
      "  result = getattr(ufunc, method)(*inputs, **kwargs)\n",
      "/tmp/ipykernel_140908/3344891223.py:10: RuntimeWarning: invalid value encountered in log1p\n",
      "  rmsle = np.sqrt(np.mean(np.log1p(y) - np.log1p(y_pred))**2)\n"
     ]
    },
    {
     "name": "stdout",
     "output_type": "stream",
     "text": [
      "Training XGBoost...\n"
     ]
    },
    {
     "name": "stderr",
     "output_type": "stream",
     "text": [
      "/home/themohitnair/Skywalker/flitepred/.venv/lib/python3.12/site-packages/pandas/core/arraylike.py:399: RuntimeWarning: divide by zero encountered in log1p\n",
      "  result = getattr(ufunc, method)(*inputs, **kwargs)\n",
      "/home/themohitnair/Skywalker/flitepred/.venv/lib/python3.12/site-packages/pandas/core/arraylike.py:399: RuntimeWarning: invalid value encountered in log1p\n",
      "  result = getattr(ufunc, method)(*inputs, **kwargs)\n",
      "/tmp/ipykernel_140908/3344891223.py:10: RuntimeWarning: invalid value encountered in log1p\n",
      "  rmsle = np.sqrt(np.mean(np.log1p(y) - np.log1p(y_pred))**2)\n"
     ]
    },
    {
     "name": "stdout",
     "output_type": "stream",
     "text": [
      "Training CatBoost...\n"
     ]
    },
    {
     "name": "stderr",
     "output_type": "stream",
     "text": [
      "/home/themohitnair/Skywalker/flitepred/.venv/lib/python3.12/site-packages/pandas/core/arraylike.py:399: RuntimeWarning: divide by zero encountered in log1p\n",
      "  result = getattr(ufunc, method)(*inputs, **kwargs)\n",
      "/home/themohitnair/Skywalker/flitepred/.venv/lib/python3.12/site-packages/pandas/core/arraylike.py:399: RuntimeWarning: invalid value encountered in log1p\n",
      "  result = getattr(ufunc, method)(*inputs, **kwargs)\n",
      "/tmp/ipykernel_140908/3344891223.py:10: RuntimeWarning: invalid value encountered in log1p\n",
      "  rmsle = np.sqrt(np.mean(np.log1p(y) - np.log1p(y_pred))**2)\n"
     ]
    }
   ],
   "source": [
    "for name, model in models.items():\n",
    "    print(f\"Training {name}...\")\n",
    "    model.fit(X_scaled, y)\n",
    "    \n",
    "    y_pred = model.predict(X_scaled)\n",
    "\n",
    "    rmse = np.sqrt(mean_squared_error(y, y_pred))\n",
    "    mae = mean_absolute_error(y, y_pred)\n",
    "    r2 = r2_score(y, y_pred)\n",
    "    \n",
    "    results[name] = {\n",
    "        'RMSE': rmse,\n",
    "        'MAE': mae,\n",
    "        'R2': r2\n",
    "    }"
   ]
  },
  {
   "cell_type": "code",
   "execution_count": 17,
   "id": "43377481",
   "metadata": {},
   "outputs": [],
   "source": [
    "results_df = pd.DataFrame(results).T\n",
    "results_df = results_df.sort_values(by='R2', ascending=False)"
   ]
  },
  {
   "cell_type": "code",
   "execution_count": 18,
   "id": "c9bd62fa",
   "metadata": {},
   "outputs": [
    {
     "name": "stdout",
     "output_type": "stream",
     "text": [
      "Model performance metrics:\n",
      "                                 RMSE        MAE        R2  RMSLE\n",
      "Random Forest               17.867735   7.314582  0.890577    NaN\n",
      "XGBoost                     27.174596  13.910430  0.746897    inf\n",
      "CatBoost                    35.487195  16.655385  0.568367    inf\n",
      "LightGBM                    40.332433  17.417931  0.442454    inf\n",
      "Gradient Boosting           46.310917  20.169188  0.264914    inf\n",
      "Linear Regression           52.306609  24.587681  0.062255    inf\n",
      "Support Vector Regression   54.776694  18.518146 -0.028403    inf\n",
      "AdaBoost                   100.147148  80.064152 -2.437547    inf\n"
     ]
    }
   ],
   "source": [
    "print(\"Model performance metrics:\")\n",
    "print(results_df)"
   ]
  },
  {
   "cell_type": "code",
   "execution_count": 19,
   "id": "4375a60d",
   "metadata": {},
   "outputs": [],
   "source": [
    "results_df.to_csv('dataset/model_performance.csv')"
   ]
  },
  {
   "cell_type": "code",
   "execution_count": null,
   "id": "ca0874b1",
   "metadata": {},
   "outputs": [],
   "source": []
  }
 ],
 "metadata": {
  "kernelspec": {
   "display_name": ".venv",
   "language": "python",
   "name": "python3"
  },
  "language_info": {
   "codemirror_mode": {
    "name": "ipython",
    "version": 3
   },
   "file_extension": ".py",
   "mimetype": "text/x-python",
   "name": "python",
   "nbconvert_exporter": "python",
   "pygments_lexer": "ipython3",
   "version": "3.12.9"
  }
 },
 "nbformat": 4,
 "nbformat_minor": 5
}
