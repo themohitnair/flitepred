{
 "cells": [
  {
   "cell_type": "code",
   "execution_count": 1,
   "metadata": {},
   "outputs": [],
   "source": [
    "import pandas as pd"
   ]
  },
  {
   "cell_type": "code",
   "execution_count": 2,
   "metadata": {},
   "outputs": [],
   "source": [
    "df = pd.read_csv(\"dataset/merged_flights_weather.csv\")\n",
    "\n",
    "df.drop([\"YEAR\"], axis=\"columns\", inplace=True)"
   ]
  },
  {
   "cell_type": "code",
   "execution_count": 3,
   "metadata": {},
   "outputs": [],
   "source": [
    "def get_hour_category(hour):\n",
    "    if 5 <= hour < 12:\n",
    "        return 1\n",
    "    elif 12 <= hour < 17:\n",
    "        return 2\n",
    "    elif 17 <= hour < 21:\n",
    "        return 3\n",
    "    else:\n",
    "        return 4\n",
    "\n",
    "df['TIME_OF_DAY'] = df['HOUR'].apply(get_hour_category)"
   ]
  },
  {
   "cell_type": "code",
   "execution_count": 4,
   "metadata": {},
   "outputs": [],
   "source": [
    "df['IS_WEEKEND'] = df['DAY_OF_WEEK'].apply(lambda x: 1 if x in [6, 7] else 0)"
   ]
  },
  {
   "cell_type": "code",
   "execution_count": 5,
   "metadata": {},
   "outputs": [],
   "source": [
    "df.head()\n",
    "\n",
    "df.to_csv(\"dataset/enriched_dataset.csv\", index=False)"
   ]
  }
 ],
 "metadata": {
  "kernelspec": {
   "display_name": ".venv",
   "language": "python",
   "name": "python3"
  },
  "language_info": {
   "codemirror_mode": {
    "name": "ipython",
    "version": 3
   },
   "file_extension": ".py",
   "mimetype": "text/x-python",
   "name": "python",
   "nbconvert_exporter": "python",
   "pygments_lexer": "ipython3",
   "version": "3.12.9"
  }
 },
 "nbformat": 4,
 "nbformat_minor": 2
}
